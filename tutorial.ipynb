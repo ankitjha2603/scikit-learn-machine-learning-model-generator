{
 "cells": [
  {
   "cell_type": "markdown",
   "id": "da426b95",
   "metadata": {},
   "source": [
    "**<center><font size=\"7\">This is just preview for tutorial purpose</font></center>**"
   ]
  },
  {
   "cell_type": "markdown",
   "id": "dba0edde",
   "metadata": {},
   "source": [
    "**Complete code is in \"modelGenerator.py\" folder and also in given <font size=\"4\"> [link](https://github.com/frommindtopage/sklearn-machine-learning-model-generator/blob/main/modelGenerator.py)**"
   ]
  },
  {
   "cell_type": "markdown",
   "id": "921eeb29",
   "metadata": {},
   "source": [
    "if you get error like \"<font color=\"red\">No unique mode; found 2 equally common values</font>\"<br>\n",
    "**then use latest version of python**"
   ]
  },
  {
   "cell_type": "markdown",
   "id": "f5e4377f",
   "metadata": {},
   "source": [
    "**<center><font size=\"6\">class</font></center>**\n",
    "**<font size=\"4\" color=\"red\">Use it only for sklearn model (scikit-learn)<font>**"
   ]
  },
  {
   "cell_type": "code",
   "execution_count": 1,
   "id": "8066a9f4",
   "metadata": {},
   "outputs": [],
   "source": [
    "class machineLearningModel:\n",
    "    def optimize(this,data,label,typ='train'):\n",
    "        from numpy import nan,array,where\n",
    "        from pandas import DataFrame\n",
    "        from statistics import mode\n",
    "        if(typ == 'train'):\n",
    "            code=dict()\n",
    "            data = data.copy()\n",
    "            __pipe = dict()\n",
    "            for column in  data.columns:\n",
    "                if(data[column].dtype == 'O'):\n",
    "                    code[column] = dict()\n",
    "                    index_list = array(sorted(data[column].value_counts().index))\n",
    "                    for value in index_list:\n",
    "                        if(value not in  [nan]+this.missing):\n",
    "                            ind = where(index_list == value)[0][0]\n",
    "                            code[column][value] = ind\n",
    "                            data[column] = data[column].replace(value,ind)\n",
    "                for miss in this.missing:\n",
    "                    data[column] = data[column].replace(miss,nan)\n",
    "                __pipe[column] = {'mean':data[column].mean(),\"std\":data[column].std(),\"median\":data[column].median(),\"zero\":0,'mode':mode(data[column])}\n",
    "                data[column] = data[column].replace(nan,__pipe[column][this.replace[column]])\n",
    "                if(column != this.label):\n",
    "                    data[column] = (data[column]-__pipe[column][\"mean\"])/__pipe[column][\"std\"]\n",
    "            this.__pipe=__pipe\n",
    "            dataFeature = data.drop(this.label,axis = 1) \n",
    "            dataLabel = data[this.label].copy()\n",
    "            return dataFeature,dataLabel,code\n",
    "        elif(typ == 'test'):\n",
    "            data = data.copy()\n",
    "            for column in data.columns:\n",
    "                if(data[column].dtype == 'O'):\n",
    "                    for value in set(data[column]):\n",
    "                        if(value not in [nan]+this.missing):\n",
    "                            ind = this.code[column][value]\n",
    "                            data[column] = data[column].replace(value,ind)\n",
    "                for miss in this.missing+[nan]:\n",
    "                    data[column] = data[column].replace(miss,this.__pipe[column][this.replace[column]])\n",
    "                if(column != this.label):\n",
    "                    data[column] = (data[column]-this.__pipe[column][\"mean\"])/this.__pipe[column][\"std\"]\n",
    "            if(label != False):\n",
    "                data,label = data.drop(this.label,axis = 1) ,data[this.label].copy()\n",
    "            return data,label\n",
    "        elif(typ == 'prediction'):\n",
    "            df = DataFrame([data],columns=list(this.__pipe.keys())[:-1])\n",
    "            return this.optimize(df,label=False,typ='test')\n",
    "    \n",
    "    def optimizePipline(this,feature,label = None,typ='train'):\n",
    "        from numpy import nan\n",
    "        if (typ == 'train'):\n",
    "            dataFeature,dataLabel,code = this.optimize(feature,label)\n",
    "            return dataFeature,dataLabel,code\n",
    "        elif(typ == 'test'):\n",
    "            dataFeature,dataLabel = this.optimize(feature,label,typ='test')\n",
    "            return dataFeature,dataLabel\n",
    "        elif(typ == 'prediction'):\n",
    "            dataFeature,label = this.optimize(feature,False,typ)\n",
    "            return dataFeature\n",
    "        \n",
    "    def __repr__(this):\n",
    "        return this.desc\n",
    "    def predict(this,feature,getCode=False):\n",
    "        def labelRecogniser(code,getCode):\n",
    "            if this.label in this.code and not getCode:\n",
    "                return list(this.code[this.label].keys())[code]\n",
    "            else:\n",
    "                return code\n",
    "        if(len(feature)==1):\n",
    "            return labelRecogniser(this.__model.predict(this.optimizePipline(feature[0],label=None,typ='prediction').to_numpy())[0],getCode=getCode)\n",
    "        else:\n",
    "            return [labelRecogniser(this.__model.predict(this.optimizePipline(sampleFeature,label=None,typ='prediction').to_numpy())[0],getCode=getCode) for sampleFeature in feature]\n",
    "    def performance(this):\n",
    "        print(this)\n",
    "        print(\"f1 score                      \",this.f1Score)\n",
    "        print(\"precision score               \",this.precisionScore)\n",
    "        print(\"recall score                  \",this.recallScore)\n",
    "        print(\"confusion matrix              \",this.confusionMatrix.tolist())\n",
    "        print(\"averge time per prediction    \",this.speed,\"sec\")\n",
    "    def __init__(this,model,trainFeature,label,testFeature,desc=None,replace=\"median\",missing=['?']):\n",
    "        this.desc = desc\n",
    "        this.label = label\n",
    "        this.missing=missing\n",
    "        if(type(replace)==str):\n",
    "            replace=[replace]*len(trainFeature.columns)\n",
    "        this.replace = {trainFeature.columns[column] : replace[column] for column in range(len(trainFeature.columns))}\n",
    "        def trainingAndTesting(model,trainFeature,label,testFeature):\n",
    "            from sklearn.metrics import mean_squared_error,precision_score, recall_score,confusion_matrix,f1_score\n",
    "            from sklearn.model_selection import cross_val_score,cross_val_predict\n",
    "            from numpy import sqrt\n",
    "            from time import time\n",
    "            trainFeature,trainLabel,this.code = this.optimizePipline(trainFeature,label)\n",
    "            \n",
    "            this.value = {this.code[this.label][x]:x  for x in this.code[this.label]}\n",
    "            model.fit(trainFeature,trainLabel)\n",
    "            this.__model = model\n",
    "            ##speed calculation\n",
    "            ini=time()\n",
    "            this.predict(testFeature.to_numpy()[:1000,:-1])\n",
    "            this.speed = (time()-ini)/1000\n",
    "            ###################\n",
    "            testFeature,testLabel = this.optimizePipline(testFeature,label,typ = 'test')\n",
    "            predict = this.__model.predict(testFeature)\n",
    "            error = sqrt(mean_squared_error(testLabel, predict))\n",
    "            this.RMSE = error\n",
    "            this.confusionMatrix = confusion_matrix(testLabel,predict)\n",
    "            this.precisionScore = precision_score(testLabel, predict)\n",
    "            this.recallScore = recall_score(testLabel,predict)\n",
    "            this.f1Score = f1_score(testLabel, predict)\n",
    "        trainingAndTesting(model,trainFeature,label,testFeature)"
   ]
  },
  {
   "cell_type": "markdown",
   "id": "dbb1058b",
   "metadata": {},
   "source": [
    "**<center><font size=\"7\">Example</font></center>**"
   ]
  },
  {
   "cell_type": "markdown",
   "id": "47e34dce",
   "metadata": {},
   "source": [
    "### importing dataset for traning and testing"
   ]
  },
  {
   "cell_type": "code",
   "execution_count": 2,
   "id": "a366f9bc",
   "metadata": {},
   "outputs": [],
   "source": [
    "from pandas import read_csv\n",
    "testData,trainData = read_csv(\"data/adult test.csv\"),read_csv(\"data/adult data.csv\")"
   ]
  },
  {
   "cell_type": "markdown",
   "id": "984b979a",
   "metadata": {},
   "source": [
    "### importing model"
   ]
  },
  {
   "cell_type": "markdown",
   "id": "a606c8aa",
   "metadata": {},
   "source": [
    "### creating model"
   ]
  },
  {
   "cell_type": "markdown",
   "id": "d893b4ed",
   "metadata": {},
   "source": [
    "* ___model___\n",
    "<br>machine learning model/function <br>\n",
    "    _Example._ KNeighborsClassifier,MLPClassifier,SVC,GaussianProcessClassifier\n",
    "* ___trainFeature___\n",
    "<br>training dataset in panda dataframe form\n",
    "* ___Label___<br>\n",
    "column you want to predict<br>\n",
    "    _Example._ i want to predict \"income\"\n",
    "* ___trainFeature___\n",
    "<br>testing dataset in panda dataframe form\n",
    "* __desc__\n",
    "<br>it is description of tha object.\n"
   ]
  },
  {
   "cell_type": "code",
   "execution_count": 3,
   "id": "5f22163e",
   "metadata": {},
   "outputs": [],
   "source": [
    "from sklearn.neighbors import KNeighborsClassifier\n",
    "kn = machineLearningModel(model=KNeighborsClassifier(),trainFeature=trainData,label=\"income\",testFeature=testData,desc=\"KNeighborsClassifier model\")"
   ]
  },
  {
   "cell_type": "markdown",
   "id": "2fcc5074",
   "metadata": {},
   "source": [
    "### model info"
   ]
  },
  {
   "cell_type": "code",
   "execution_count": 4,
   "id": "ca04674c",
   "metadata": {},
   "outputs": [
    {
     "name": "stdout",
     "output_type": "stream",
     "text": [
      "KNeighborsClassifier model\n",
      "f1 score                       0.6171712982165077\n",
      "precision score                0.6589902568644819\n",
      "recall score                   0.5803432137285491\n",
      "confusion matrix               [[11280, 1155], [1614, 2232]]\n",
      "averge time per prediction     0.046747205972671506 sec\n"
     ]
    }
   ],
   "source": [
    "print(kn)\n",
    "print(\"f1 score                      \",kn.f1Score)\n",
    "print(\"precision score               \",kn.precisionScore)\n",
    "print(\"recall score                  \",kn.recallScore)\n",
    "print(\"confusion matrix              \",kn.confusionMatrix.tolist())\n",
    "print(\"averge time per prediction    \",kn.speed,\"sec\")"
   ]
  },
  {
   "cell_type": "code",
   "execution_count": 5,
   "id": "df7c65b7",
   "metadata": {},
   "outputs": [
    {
     "name": "stdout",
     "output_type": "stream",
     "text": [
      "KNeighborsClassifier model\n",
      "f1 score                       0.6171712982165077\n",
      "precision score                0.6589902568644819\n",
      "recall score                   0.5803432137285491\n",
      "confusion matrix               [[11280, 1155], [1614, 2232]]\n",
      "averge time per prediction     0.046747205972671506 sec\n"
     ]
    }
   ],
   "source": [
    "kn.performance()"
   ]
  },
  {
   "cell_type": "markdown",
   "id": "d06f138d",
   "metadata": {},
   "source": [
    "### prediction\n",
    "<font color='red'>input should be 2 dimensional</font>"
   ]
  },
  {
   "cell_type": "code",
   "execution_count": 6,
   "id": "82beb468",
   "metadata": {},
   "outputs": [
    {
     "data": {
      "text/plain": [
       "'<=50K'"
      ]
     },
     "execution_count": 6,
     "metadata": {},
     "output_type": "execute_result"
    }
   ],
   "source": [
    "kn.predict([[25, 'Private', 226802, '11th', 7, 'Never-married','Machine-op-inspct', 'Own-child', 'Black', 'Male', 0, 0, 40,'United-States']])"
   ]
  },
  {
   "cell_type": "code",
   "execution_count": 7,
   "id": "d58ef4fe",
   "metadata": {},
   "outputs": [
    {
     "data": {
      "text/plain": [
       "['<=50K', '<=50K', '<=50K', '>50K', '<=50K']"
      ]
     },
     "execution_count": 7,
     "metadata": {},
     "output_type": "execute_result"
    }
   ],
   "source": [
    "kn.predict([[25, 'Private', 226802, '11th', 7, 'Never-married','Machine-op-inspct', 'Own-child', 'Black', 'Male', 0, 0, 40,'United-States'],\n",
    "       [38, 'Private', 89814, 'HS-grad', 9, 'Married-civ-spouse','Farming-fishing', 'Husband', 'White', 'Male', 0, 0, 50,'United-States'],\n",
    "       [28, 'Local-gov', 336951, 'Assoc-acdm', 12, 'Married-civ-spouse','Protective-serv', 'Husband', 'White', 'Male', 0, 0, 40,'United-States'],\n",
    "       [44, 'Private', 160323, 'Some-college', 10, 'Married-civ-spouse','Machine-op-inspct', 'Husband', 'Black', 'Male', 7688, 0, 40,'United-States'],\n",
    "       [18, '?', 103497, 'Some-college', 10, 'Never-married', '?','Own-child', 'White', 'Female', 0, 0, 30, 'United-States']])"
   ]
  },
  {
   "cell_type": "markdown",
   "id": "cd411816",
   "metadata": {},
   "source": [
    "### if you want code \n",
    "each label has a inbuilt-code you can get it just using getCode = True"
   ]
  },
  {
   "cell_type": "code",
   "execution_count": 8,
   "id": "cf32b098",
   "metadata": {},
   "outputs": [
    {
     "data": {
      "text/plain": [
       "0"
      ]
     },
     "execution_count": 8,
     "metadata": {},
     "output_type": "execute_result"
    }
   ],
   "source": [
    "kn.predict([[25, 'Private', 226802, '11th', 7, 'Never-married','Machine-op-inspct', 'Own-child', 'Black', 'Male', 0, 0, 40,'United-States']],getCode=True)"
   ]
  },
  {
   "cell_type": "markdown",
   "id": "11e232e5",
   "metadata": {},
   "source": [
    "You can check the value of above code using kn.value<br>\n",
    "and 0 means '<=50k'"
   ]
  },
  {
   "cell_type": "code",
   "execution_count": 9,
   "id": "96eb2e27",
   "metadata": {},
   "outputs": [
    {
     "data": {
      "text/plain": [
       "{0: '<=50K', 1: '>50K'}"
      ]
     },
     "execution_count": 9,
     "metadata": {},
     "output_type": "execute_result"
    }
   ],
   "source": [
    "kn.value"
   ]
  },
  {
   "cell_type": "markdown",
   "id": "07eda1f8",
   "metadata": {},
   "source": [
    "## missing datapoint"
   ]
  },
  {
   "cell_type": "markdown",
   "id": "0e2b6847",
   "metadata": {},
   "source": [
    "### missing"
   ]
  },
  {
   "cell_type": "markdown",
   "id": "2e743e15",
   "metadata": {},
   "source": [
    "missing is a parameter <br>\n",
    "**defult value: ['?']**<br>\n",
    "this a list<br>\n",
    "model treat all the element of that list as Nan"
   ]
  },
  {
   "cell_type": "code",
   "execution_count": 10,
   "id": "8048ae3b",
   "metadata": {},
   "outputs": [],
   "source": [
    "from sklearn.neighbors import KNeighborsClassifier\n",
    "kn = machineLearningModel(model=KNeighborsClassifier(),trainFeature=trainData,label=\"income\",testFeature=testData,desc=\"KNeighborsClassifier model\",missing=['?','-'])"
   ]
  },
  {
   "cell_type": "markdown",
   "id": "c33dc66f",
   "metadata": {},
   "source": [
    "so this model treat '?' and '-' as Nan"
   ]
  },
  {
   "cell_type": "markdown",
   "id": "ab2fd5d5",
   "metadata": {},
   "source": [
    "### replace"
   ]
  },
  {
   "cell_type": "markdown",
   "id": "2c2d3cfb",
   "metadata": {},
   "source": [
    "missing is a parameter <br>\n",
    "**defult value: \"median\"**<br>\n",
    "this a list<br>\n",
    "this tells what you want to replace in place of Nan"
   ]
  },
  {
   "cell_type": "code",
   "execution_count": 11,
   "id": "e4fe2911",
   "metadata": {},
   "outputs": [],
   "source": [
    "from sklearn.neighbors import KNeighborsClassifier\n",
    "kn = machineLearningModel(model = KNeighborsClassifier(),trainFeature = trainData,label = \"income\",testFeature = testData,desc = \"KNeighborsClassifier model\",missing = ['?','-'],replace = 'mean')"
   ]
  },
  {
   "cell_type": "markdown",
   "id": "f4d03803",
   "metadata": {},
   "source": [
    "this model will replace all Nan from all columns by mean() of that column"
   ]
  },
  {
   "cell_type": "markdown",
   "id": "1a45b238",
   "metadata": {},
   "source": [
    "If you want to treat Nan differently in different column"
   ]
  },
  {
   "cell_type": "code",
   "execution_count": 12,
   "id": "0eb2d2a6",
   "metadata": {},
   "outputs": [],
   "source": [
    "from sklearn.neighbors import KNeighborsClassifier\n",
    "kn = machineLearningModel(model = KNeighborsClassifier(),trainFeature = trainData,label = \"income\",testFeature = testData,desc = \"KNeighborsClassifier model\",missing = ['?','-'],replace = [\"mean\",\"median\",\"zero\",\"mean\",\"median\",\"zero\",\"mean\",\"median\",\"zero\",\"mode\",\"median\",\"zero\",\"mean\",\"median\",\"zero\"])"
   ]
  },
  {
   "cell_type": "markdown",
   "id": "a21e11e9",
   "metadata": {},
   "source": [
    "First element of <font size=\"3\"> ___replace___</font> is _\"mean\"_&nbsp;&nbsp; means this model replace all the Nan in column1 by _mean_ of column1<br>\n",
    "Second element of <font size=\"3\"> ___replace___</font> is _\"median\"_&nbsp;&nbsp; means this model replace all the Nan in column2 by _median_ of column2<br>\n",
    "and so on<br>\n",
    "- you have 5 option which you can use in replace\n",
    "    - **mean** :- this replace Nan by mean of the column\n",
    "    - **median** :- this replace Nan by median of the column\n",
    "    - **mode** :- this replace Nan by mode of the column\n",
    "    - **zero** :- this replace Nan by zero\n",
    "    - **std** :- this replace Nan by standard deviation of the column"
   ]
  },
  {
   "cell_type": "markdown",
   "id": "58a70711",
   "metadata": {},
   "source": [
    "**<center><font size=\"6\">Saving the model for future</font></center>**"
   ]
  },
  {
   "cell_type": "markdown",
   "id": "465ef286",
   "metadata": {},
   "source": [
    "### Saving the model to file"
   ]
  },
  {
   "cell_type": "code",
   "execution_count": 13,
   "id": "4a875db1",
   "metadata": {},
   "outputs": [
    {
     "data": {
      "text/plain": [
       "['income prediction.joblib']"
      ]
     },
     "execution_count": 13,
     "metadata": {},
     "output_type": "execute_result"
    }
   ],
   "source": [
    "from joblib import dump, load\n",
    "from sklearn.neighbors import KNeighborsClassifier\n",
    "kn = machineLearningModel(model=KNeighborsClassifier(),trainFeature=trainData,label=\"income\",testFeature=testData,desc=\"KNeighborsClassifier model\")\n",
    "dump(kn, 'income prediction.joblib')"
   ]
  },
  {
   "cell_type": "markdown",
   "id": "4e23492b",
   "metadata": {},
   "source": [
    "Now you will get a file __'income prediction.joblib'__<br>\n",
    "your model is saved in that file"
   ]
  },
  {
   "cell_type": "markdown",
   "id": "303c5447",
   "metadata": {},
   "source": [
    "### using model from file"
   ]
  },
  {
   "cell_type": "markdown",
   "id": "400ee59d",
   "metadata": {},
   "source": [
    "You can import it anytime and you don't need to retrain it"
   ]
  },
  {
   "cell_type": "code",
   "execution_count": 14,
   "id": "15112917",
   "metadata": {},
   "outputs": [],
   "source": [
    "from joblib import dump, load\n",
    "kn = load('income prediction.joblib')"
   ]
  },
  {
   "cell_type": "markdown",
   "id": "db8d5d84",
   "metadata": {},
   "source": [
    "directly using the model for prediction"
   ]
  },
  {
   "cell_type": "code",
   "execution_count": 15,
   "id": "a0bafb77",
   "metadata": {},
   "outputs": [
    {
     "data": {
      "text/plain": [
       "'>50K'"
      ]
     },
     "execution_count": 15,
     "metadata": {},
     "output_type": "execute_result"
    }
   ],
   "source": [
    "kn.predict([[44, 'Private', 160323, 'Some-college', 10, 'Married-civ-spouse','Machine-op-inspct', 'Husband', 'Black', 'Male', 7688, 0, 40,'United-States']])"
   ]
  },
  {
   "cell_type": "code",
   "execution_count": 16,
   "id": "c0981a06",
   "metadata": {},
   "outputs": [
    {
     "data": {
      "text/plain": [
       "0.6171712982165077"
      ]
     },
     "execution_count": 16,
     "metadata": {},
     "output_type": "execute_result"
    }
   ],
   "source": [
    "kn.f1Score"
   ]
  },
  {
   "cell_type": "markdown",
   "id": "25fd9553",
   "metadata": {},
   "source": [
    "# I used KNeighborsClassifier but you can try others too\n",
    "## Some of them are given below."
   ]
  },
  {
   "cell_type": "markdown",
   "id": "768dc7dc",
   "metadata": {},
   "source": [
    "_#from sklearn.neighbors import KNeighborsClassifier_<br>\n",
    "_#from sklearn.neural_network import MLPClassifier_<br>\n",
    "_#from sklearn.svm import SVC_<br>\n",
    "_#from sklearn.gaussian_process import GaussianProcessClassifier_<br>\n",
    "_#from sklearn.tree import DecisionTreeClassifier_<br>\n",
    "_#from sklearn.ensemble import RandomForestClassifier, AdaBoostClassifier_"
   ]
  },
  {
   "cell_type": "markdown",
   "id": "dc5588ff",
   "metadata": {},
   "source": [
    "<font color=\"red\" size=\"4\">SVC and GaussianProcessClassifier takes a lot of time in training<br>\n",
    "Sometimes my pc hangs</font>"
   ]
  }
 ],
 "metadata": {
  "kernelspec": {
   "display_name": "Python 3 (ipykernel)",
   "language": "python",
   "name": "python3"
  },
  "language_info": {
   "codemirror_mode": {
    "name": "ipython",
    "version": 3
   },
   "file_extension": ".py",
   "mimetype": "text/x-python",
   "name": "python",
   "nbconvert_exporter": "python",
   "pygments_lexer": "ipython3",
   "version": "3.7.9"
  }
 },
 "nbformat": 4,
 "nbformat_minor": 5
}
